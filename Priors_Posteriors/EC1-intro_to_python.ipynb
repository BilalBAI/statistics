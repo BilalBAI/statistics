{
 "cells": [
  {
   "cell_type": "markdown",
   "id": "b3a91bde",
   "metadata": {},
   "source": [
    "# Example Class 1- Introduction to Python\n"
   ]
  },
  {
   "cell_type": "markdown",
   "id": "41bdd316",
   "metadata": {},
   "source": [
    "## Basic DataTypes\n",
    "\n",
    "\n"
   ]
  },
  {
   "cell_type": "markdown",
   "id": "5065e658",
   "metadata": {},
   "source": [
    "### Numbers"
   ]
  },
  {
   "cell_type": "code",
   "execution_count": 7,
   "id": "8aae414b",
   "metadata": {},
   "outputs": [
    {
     "data": {
      "text/plain": [
       "20"
      ]
     },
     "execution_count": 7,
     "metadata": {},
     "output_type": "execute_result"
    }
   ],
   "source": [
    "2 + 2\n",
    "50 - 5*6"
   ]
  },
  {
   "cell_type": "code",
   "execution_count": 36,
   "id": "bfa8f4ca",
   "metadata": {},
   "outputs": [
    {
     "data": {
      "text/plain": [
       "5.666666666666667"
      ]
     },
     "execution_count": 36,
     "metadata": {},
     "output_type": "execute_result"
    }
   ],
   "source": [
    "# Division\n",
    "17 / 3 # int/int -> float\n",
    "17 / 3.0 # int/float -> float\n",
    "\n"
   ]
  },
  {
   "cell_type": "code",
   "execution_count": 37,
   "id": "371c7b00",
   "metadata": {},
   "outputs": [
    {
     "data": {
      "text/plain": [
       "5.0"
      ]
     },
     "execution_count": 37,
     "metadata": {},
     "output_type": "execute_result"
    }
   ],
   "source": [
    "\n",
    "# The // operator returns the result which discards the fractional part\n",
    "17 // 3\n",
    "17.0 // 3\n",
    "17 // 3.0\n",
    "\n"
   ]
  },
  {
   "cell_type": "code",
   "execution_count": 38,
   "id": "2ef0762a",
   "metadata": {},
   "outputs": [
    {
     "data": {
      "text/plain": [
       "True"
      ]
     },
     "execution_count": 38,
     "metadata": {},
     "output_type": "execute_result"
    }
   ],
   "source": [
    "\n",
    "# The % operator returns the reminder of the division\n",
    "17 % 3\n",
    "17.0 % 3\n",
    "\n",
    "17 == ( (17 // 3) * 3 + 17 % 3)\n",
    "\n"
   ]
  },
  {
   "cell_type": "code",
   "execution_count": 39,
   "id": "d1054e42",
   "metadata": {},
   "outputs": [
    {
     "data": {
      "text/plain": [
       "128"
      ]
     },
     "execution_count": 39,
     "metadata": {},
     "output_type": "execute_result"
    }
   ],
   "source": [
    "\n",
    "\n",
    "# Power\n",
    "5 ** 2 # 5 squared\n",
    "2 ** 7 # 2 to the power of 7\n",
    "\n"
   ]
  },
  {
   "cell_type": "markdown",
   "id": "20192e79",
   "metadata": {},
   "source": [
    "### Strings\n"
   ]
  },
  {
   "cell_type": "code",
   "execution_count": 40,
   "id": "007d7c2d",
   "metadata": {},
   "outputs": [
    {
     "data": {
      "text/plain": [
       "'\"Isn\\'t\", she said'"
      ]
     },
     "execution_count": 40,
     "metadata": {},
     "output_type": "execute_result"
    }
   ],
   "source": [
    "'spam eggs'  # single quotes\n",
    "'doesn\\'t' # use \\' to display ' in single quotes\n",
    "\"doesn't\" # or use double quotes\n",
    "\n",
    "'\"Yes\", he said.'\n",
    "\"\\\"Yes\\\", he said.\"\n",
    "\n",
    "'\"Isn\\'t\", she said'"
   ]
  },
  {
   "cell_type": "code",
   "execution_count": 1,
   "id": "15176e6d",
   "metadata": {},
   "outputs": [
    {
     "name": "stdout",
     "output_type": "stream",
     "text": [
      "C:\\some\n",
      "ame\n",
      "C:\\some\\name\n",
      "C:\\some\\name\n"
     ]
    }
   ],
   "source": [
    "\n",
    "print(\"C:\\some\\name\")  # here \\n means ENTER (newline)\n",
    "\n",
    "print(r'C:\\some\\name') # use the r before the quote\n",
    "print('C:\\some\\\\name') # or use \\\\ before n\n",
    "\n"
   ]
  },
  {
   "cell_type": "code",
   "execution_count": 43,
   "id": "36233409",
   "metadata": {},
   "outputs": [
    {
     "data": {
      "text/plain": [
       "'unununium'"
      ]
     },
     "execution_count": 43,
     "metadata": {},
     "output_type": "execute_result"
    }
   ],
   "source": [
    "\n",
    "# Operates on strings\n",
    "3 * 'un' + 'ium'"
   ]
  },
  {
   "cell_type": "code",
   "execution_count": 44,
   "id": "4451ca34",
   "metadata": {},
   "outputs": [
    {
     "data": {
      "text/plain": [
       "'on'"
      ]
     },
     "execution_count": 44,
     "metadata": {},
     "output_type": "execute_result"
    }
   ],
   "source": [
    "\n",
    "# String index\n",
    "word = 'Python'\n",
    "word[0] # the first character of word (position 0)\n",
    "word[5] # the sixth character of word (position 5)\n",
    "\n",
    "word[-1] # the last character\n",
    "word[-2] # the second last character\n",
    "word[-6]\n",
    "\n",
    "word[:2] # characters from the beginning to position 2 (excluded)\n",
    "word[4:] # characters from the position 4 (included) to the end\n",
    "word[-2:] # characters from the second-last (included) to the end\n",
    "\n"
   ]
  },
  {
   "cell_type": "markdown",
   "id": "a1d7d9c4",
   "metadata": {},
   "source": [
    "### Lists"
   ]
  },
  {
   "cell_type": "code",
   "execution_count": 46,
   "id": "a1c06f3d",
   "metadata": {},
   "outputs": [
    {
     "data": {
      "text/plain": [
       "[1, 4, 9, 16, 25]"
      ]
     },
     "execution_count": 46,
     "metadata": {},
     "output_type": "execute_result"
    }
   ],
   "source": [
    "squares = [1, 4, 9, 16, 25]\n",
    "squares"
   ]
  },
  {
   "cell_type": "code",
   "execution_count": 47,
   "id": "f8a4c493",
   "metadata": {},
   "outputs": [
    {
     "name": "stdout",
     "output_type": "stream",
     "text": [
      "1\n",
      "25\n"
     ]
    }
   ],
   "source": [
    "print(squares[0]) # indexing returns the item\n",
    "print(squares[-1])"
   ]
  },
  {
   "cell_type": "code",
   "execution_count": 49,
   "id": "f01a0ba0",
   "metadata": {},
   "outputs": [
    {
     "data": {
      "text/plain": [
       "[9, 16, 25]"
      ]
     },
     "execution_count": 49,
     "metadata": {},
     "output_type": "execute_result"
    }
   ],
   "source": [
    "squares[-3:] # slicing returns a new list"
   ]
  },
  {
   "cell_type": "code",
   "execution_count": 50,
   "id": "4c113a9c",
   "metadata": {},
   "outputs": [
    {
     "data": {
      "text/plain": [
       "[1, 4, 9, 16, 25]"
      ]
     },
     "execution_count": 50,
     "metadata": {},
     "output_type": "execute_result"
    }
   ],
   "source": [
    "squares + [36, 49, 64, 81, 100] # Extension of a list\n",
    "squares\n"
   ]
  },
  {
   "cell_type": "code",
   "execution_count": 51,
   "id": "244c3577",
   "metadata": {},
   "outputs": [
    {
     "data": {
      "text/plain": [
       "[1, 4, 9, 16, 25, 121, 144]"
      ]
     },
     "execution_count": 51,
     "metadata": {},
     "output_type": "execute_result"
    }
   ],
   "source": [
    "\n",
    "squares.append(11 ** 2)\n",
    "squares.append(12 ** 2)\n",
    "squares\n",
    "\n"
   ]
  },
  {
   "cell_type": "code",
   "execution_count": 52,
   "id": "756ec551",
   "metadata": {},
   "outputs": [
    {
     "data": {
      "text/plain": [
       "['a', 'b', 'c', 'd', 'e', 'f', 'g']"
      ]
     },
     "execution_count": 52,
     "metadata": {},
     "output_type": "execute_result"
    }
   ],
   "source": [
    "\n",
    "letters = ['a', 'b', 'c', 'd', 'e', 'f', 'g']\n",
    "letters"
   ]
  },
  {
   "cell_type": "code",
   "execution_count": 53,
   "id": "fcc0573f",
   "metadata": {},
   "outputs": [
    {
     "data": {
      "text/plain": [
       "['a', 'b', 'C', 'D', 'E', 'f', 'g']"
      ]
     },
     "execution_count": 53,
     "metadata": {},
     "output_type": "execute_result"
    }
   ],
   "source": [
    "\n",
    "\n",
    "# Replace some items\n",
    "letters[2:5] = ['C', 'D', 'E']\n",
    "letters\n",
    "\n"
   ]
  },
  {
   "cell_type": "code",
   "execution_count": 54,
   "id": "bebbed42",
   "metadata": {},
   "outputs": [
    {
     "data": {
      "text/plain": [
       "['a', 'b', 'f', 'g']"
      ]
     },
     "execution_count": 54,
     "metadata": {},
     "output_type": "execute_result"
    }
   ],
   "source": [
    "\n",
    "# Remove items\n",
    "letters[2:5] = []\n",
    "letters"
   ]
  },
  {
   "cell_type": "code",
   "execution_count": 55,
   "id": "72365fa4",
   "metadata": {},
   "outputs": [
    {
     "data": {
      "text/plain": [
       "[]"
      ]
     },
     "execution_count": 55,
     "metadata": {},
     "output_type": "execute_result"
    }
   ],
   "source": [
    "# Clear the list\n",
    "letters[:] = []\n",
    "letters"
   ]
  },
  {
   "cell_type": "code",
   "execution_count": 56,
   "id": "b8a7fea4",
   "metadata": {},
   "outputs": [
    {
     "data": {
      "text/plain": [
       "4"
      ]
     },
     "execution_count": 56,
     "metadata": {},
     "output_type": "execute_result"
    }
   ],
   "source": [
    "letters = ['a', 'b', 'c', 'd']\n",
    "# Length\n",
    "len(letters)\n",
    "\n"
   ]
  },
  {
   "cell_type": "code",
   "execution_count": 59,
   "id": "e5431575",
   "metadata": {},
   "outputs": [
    {
     "data": {
      "text/plain": [
       "[['a', 'b', 'c'], [1, 2, 3]]"
      ]
     },
     "execution_count": 59,
     "metadata": {},
     "output_type": "execute_result"
    }
   ],
   "source": [
    "# Nested lists\n",
    "a = ['a', 'b', 'c']\n",
    "n = [1, 2, 3]\n",
    "x = [a, n]\n",
    "x"
   ]
  },
  {
   "cell_type": "code",
   "execution_count": 61,
   "id": "d395e7e1",
   "metadata": {},
   "outputs": [
    {
     "data": {
      "text/plain": [
       "['a', 'b', 'c']"
      ]
     },
     "execution_count": 61,
     "metadata": {},
     "output_type": "execute_result"
    }
   ],
   "source": [
    "x[0]"
   ]
  },
  {
   "cell_type": "code",
   "execution_count": 62,
   "id": "8f50337f",
   "metadata": {},
   "outputs": [
    {
     "data": {
      "text/plain": [
       "'b'"
      ]
     },
     "execution_count": 62,
     "metadata": {},
     "output_type": "execute_result"
    }
   ],
   "source": [
    "x[0][1]"
   ]
  },
  {
   "cell_type": "markdown",
   "id": "d5c482b6",
   "metadata": {},
   "source": [
    "### Sets\n"
   ]
  },
  {
   "cell_type": "code",
   "execution_count": 64,
   "id": "370c4a44",
   "metadata": {},
   "outputs": [
    {
     "data": {
      "text/plain": [
       "{'apple', 'banana', 'orange', 'pear'}"
      ]
     },
     "execution_count": 64,
     "metadata": {},
     "output_type": "execute_result"
    }
   ],
   "source": [
    "basket = ['apple', 'orange', 'apple', 'pear', 'orange', 'banana']\n",
    "fruit = set(basket)  # create a set without duplicates\n",
    "fruit"
   ]
  },
  {
   "cell_type": "code",
   "execution_count": 65,
   "id": "57ca7407",
   "metadata": {},
   "outputs": [
    {
     "data": {
      "text/plain": [
       "False"
      ]
     },
     "execution_count": 65,
     "metadata": {},
     "output_type": "execute_result"
    }
   ],
   "source": [
    "# Membership testing\n",
    "'orange' in fruit\n",
    "'crabgrass' in fruit"
   ]
  },
  {
   "cell_type": "code",
   "execution_count": 67,
   "id": "b8920852",
   "metadata": {},
   "outputs": [
    {
     "name": "stdout",
     "output_type": "stream",
     "text": [
      "{'b', 'd', 'c', 'a', 'r'} {'c', 'a', 'm', 'z', 'l'}\n"
     ]
    }
   ],
   "source": [
    "\n",
    "# Set operations on unique letters from two strings\n",
    "a = set('abracadabra')\n",
    "b = set('alacazam')\n",
    "print(a,b)"
   ]
  },
  {
   "cell_type": "code",
   "execution_count": 68,
   "id": "34a9ede8",
   "metadata": {},
   "outputs": [
    {
     "data": {
      "text/plain": [
       "{'b', 'd', 'r'}"
      ]
     },
     "execution_count": 68,
     "metadata": {},
     "output_type": "execute_result"
    }
   ],
   "source": [
    "a - b # letters in a but not in b"
   ]
  },
  {
   "cell_type": "code",
   "execution_count": 69,
   "id": "c46a80eb",
   "metadata": {},
   "outputs": [
    {
     "data": {
      "text/plain": [
       "{'l', 'm', 'z'}"
      ]
     },
     "execution_count": 69,
     "metadata": {},
     "output_type": "execute_result"
    }
   ],
   "source": [
    "b - a # letters in b but not in a"
   ]
  },
  {
   "cell_type": "code",
   "execution_count": 70,
   "id": "28d71c18",
   "metadata": {},
   "outputs": [
    {
     "data": {
      "text/plain": [
       "{'a', 'b', 'c', 'd', 'l', 'm', 'r', 'z'}"
      ]
     },
     "execution_count": 70,
     "metadata": {},
     "output_type": "execute_result"
    }
   ],
   "source": [
    "a | b # letters in either a or b"
   ]
  },
  {
   "cell_type": "code",
   "execution_count": 71,
   "id": "1c8c83fa",
   "metadata": {},
   "outputs": [
    {
     "data": {
      "text/plain": [
       "{'a', 'c'}"
      ]
     },
     "execution_count": 71,
     "metadata": {},
     "output_type": "execute_result"
    }
   ],
   "source": [
    "a & b # letters in both a and b"
   ]
  },
  {
   "cell_type": "code",
   "execution_count": 72,
   "id": "e49f5af5",
   "metadata": {},
   "outputs": [
    {
     "data": {
      "text/plain": [
       "{'b', 'd', 'l', 'm', 'r', 'z'}"
      ]
     },
     "execution_count": 72,
     "metadata": {},
     "output_type": "execute_result"
    }
   ],
   "source": [
    "a ^ b # letters in a or b but not both"
   ]
  },
  {
   "cell_type": "code",
   "execution_count": 73,
   "id": "504d2d11",
   "metadata": {},
   "outputs": [
    {
     "data": {
      "text/plain": [
       "{'b', 'd', 'r'}"
      ]
     },
     "execution_count": 73,
     "metadata": {},
     "output_type": "execute_result"
    }
   ],
   "source": [
    "{x for x in 'abracadabra' if x not in 'alacazam'}"
   ]
  },
  {
   "cell_type": "markdown",
   "id": "9d4e9e8d",
   "metadata": {},
   "source": [
    " ### Dictionary\n"
   ]
  },
  {
   "cell_type": "code",
   "execution_count": 74,
   "id": "1984d7e1",
   "metadata": {},
   "outputs": [
    {
     "data": {
      "text/plain": [
       "{'jack': 4098, 'sape': 4139, 'guido': 4127}"
      ]
     },
     "execution_count": 74,
     "metadata": {},
     "output_type": "execute_result"
    }
   ],
   "source": [
    "tel = {'jack': 4098, 'sape': 4139} # Dict==> Key: Value\n",
    "tel['guido'] = 4127  # Add a new item\n",
    "tel\n"
   ]
  },
  {
   "cell_type": "code",
   "execution_count": 75,
   "id": "e6c95912",
   "metadata": {},
   "outputs": [
    {
     "data": {
      "text/plain": [
       "4098"
      ]
     },
     "execution_count": 75,
     "metadata": {},
     "output_type": "execute_result"
    }
   ],
   "source": [
    "# Indexing in dictionarys\n",
    "tel['jack']"
   ]
  },
  {
   "cell_type": "code",
   "execution_count": 76,
   "id": "0705ac46",
   "metadata": {},
   "outputs": [
    {
     "data": {
      "text/plain": [
       "{'jack': 4098, 'guido': 4127, 'irv': 4127}"
      ]
     },
     "execution_count": 76,
     "metadata": {},
     "output_type": "execute_result"
    }
   ],
   "source": [
    "del tel['sape'] # delete an item\n",
    "tel['irv'] = 4127\n",
    "tel"
   ]
  },
  {
   "cell_type": "code",
   "execution_count": 78,
   "id": "324e1226",
   "metadata": {},
   "outputs": [
    {
     "name": "stdout",
     "output_type": "stream",
     "text": [
      "dict_keys(['jack', 'guido', 'irv'])\n",
      "dict_values([4098, 4127, 4127])\n"
     ]
    }
   ],
   "source": [
    "print(tel.keys()) # Get all keys\n",
    "print(tel.values()) # Get all values\n"
   ]
  },
  {
   "cell_type": "code",
   "execution_count": 79,
   "id": "b2243ff4",
   "metadata": {},
   "outputs": [
    {
     "data": {
      "text/plain": [
       "True"
      ]
     },
     "execution_count": 79,
     "metadata": {},
     "output_type": "execute_result"
    }
   ],
   "source": [
    "'guido' in tel"
   ]
  },
  {
   "cell_type": "code",
   "execution_count": 81,
   "id": "aeef602f",
   "metadata": {},
   "outputs": [
    {
     "data": {
      "text/plain": [
       "{'sape': 4139, 'guido': 4127, 'jack': 4098}"
      ]
     },
     "execution_count": 81,
     "metadata": {},
     "output_type": "execute_result"
    }
   ],
   "source": [
    "# alternative way to define dictionary. \n",
    "dict([('sape', 4139), ('guido', 4127), ('jack', 4098)])   # [(Key, Value)]\n",
    "\n",
    "dict(sape = 4139, guido = 4127, jack = 4098)  # Key = Value\n"
   ]
  },
  {
   "cell_type": "code",
   "execution_count": 83,
   "id": "daad7aea",
   "metadata": {},
   "outputs": [
    {
     "data": {
      "text/plain": [
       "{2: 4, 4: 16, 6: 36}"
      ]
     },
     "execution_count": 83,
     "metadata": {},
     "output_type": "execute_result"
    }
   ],
   "source": [
    "{x: x ** 2 for x in (2, 4, 6)}"
   ]
  },
  {
   "cell_type": "markdown",
   "id": "9637be1b",
   "metadata": {},
   "source": [
    "## Control Flow"
   ]
  },
  {
   "cell_type": "code",
   "execution_count": 84,
   "id": "9e24e0b1",
   "metadata": {},
   "outputs": [
    {
     "name": "stdout",
     "output_type": "stream",
     "text": [
      "Please enter an interger: 10\n",
      "More\n"
     ]
    }
   ],
   "source": [
    "# If Statement\n",
    "x = int(input(\"Please enter an interger: \"))\n",
    "\n",
    "if x<0:\n",
    "    x = 0\n",
    "    print(\"Negative changed to zero\")\n",
    "elif x == 0:\n",
    "    print('Zero')\n",
    "elif x == 1:\n",
    "    print('Single')\n",
    "else:\n",
    "    print(\"More\")"
   ]
  },
  {
   "cell_type": "code",
   "execution_count": 85,
   "id": "0ea4faf8",
   "metadata": {},
   "outputs": [
    {
     "name": "stdout",
     "output_type": "stream",
     "text": [
      "cat 3\n",
      "window 6\n",
      "jump 4\n",
      "0 Mary\n",
      "1 had\n",
      "2 a\n",
      "3 little\n",
      "4 lamb\n"
     ]
    }
   ],
   "source": [
    "\n",
    "# For statement\n",
    "words = ['cat', 'window', 'jump']\n",
    "\n",
    "for w in words:\n",
    "    print(w, len(w))\n",
    "\n",
    "\n",
    "\n",
    "\n"
   ]
  },
  {
   "cell_type": "code",
   "execution_count": 88,
   "id": "632399ed",
   "metadata": {},
   "outputs": [
    {
     "name": "stdout",
     "output_type": "stream",
     "text": [
      "range(0, 10)\n",
      "range(5, 10)\n",
      "range(0, 10, 3)\n",
      "range(-10, -100, -30)\n"
     ]
    }
   ],
   "source": [
    "print(range(10))\n",
    "print(range(5, 10))\n",
    "print(range(0, 10, 3))\n",
    "print(range(-10, -100, -30))\n",
    "\n"
   ]
  },
  {
   "cell_type": "code",
   "execution_count": 89,
   "id": "20a647cf",
   "metadata": {},
   "outputs": [
    {
     "name": "stdout",
     "output_type": "stream",
     "text": [
      "0 Mary\n",
      "1 had\n",
      "2 a\n",
      "3 little\n",
      "4 lamb\n"
     ]
    }
   ],
   "source": [
    "a = ['Mary', 'had', 'a', 'little', 'lamb']\n",
    "\n",
    "for i in range(len(a)):\n",
    "    print(i, a[i])"
   ]
  },
  {
   "cell_type": "code",
   "execution_count": 90,
   "id": "f3d3a474",
   "metadata": {},
   "outputs": [
    {
     "name": "stdout",
     "output_type": "stream",
     "text": [
      "2 is a prime number\n",
      "3 is a prime number\n",
      "4 equals 2 * 2\n",
      "5 is a prime number\n",
      "6 equals 2 * 3\n",
      "7 is a prime number\n",
      "8 equals 2 * 4\n",
      "9 equals 3 * 3\n"
     ]
    }
   ],
   "source": [
    "\n",
    "# Break and continue\n",
    "for n in range(2, 10):\n",
    "    for x in range(2, n):\n",
    "        if n % x == 0:\n",
    "            print(n, 'equals', x, '*', n // x)\n",
    "            break\n",
    "    else:\n",
    "        # without finding a factor\n",
    "        print(n, 'is a prime number')\n",
    "\n",
    "\n"
   ]
  },
  {
   "cell_type": "code",
   "execution_count": 91,
   "id": "9eafec07",
   "metadata": {},
   "outputs": [
    {
     "name": "stdout",
     "output_type": "stream",
     "text": [
      "Found an even number 2\n",
      "Found a number 3\n",
      "Found an even number 4\n",
      "Found a number 5\n",
      "Found an even number 6\n",
      "Found a number 7\n",
      "Found an even number 8\n",
      "Found a number 9\n"
     ]
    }
   ],
   "source": [
    "\n",
    "for num in range(2, 10):\n",
    "    if num % 2 == 0:\n",
    "        print('Found an even number', num)\n",
    "        continue\n",
    "    print('Found a number', num)\n",
    "\n",
    "\n"
   ]
  },
  {
   "cell_type": "code",
   "execution_count": 93,
   "id": "dfe9222b",
   "metadata": {},
   "outputs": [
    {
     "name": "stdout",
     "output_type": "stream",
     "text": [
      "1\n",
      "2\n",
      "3\n",
      "4\n",
      "5\n",
      "6\n",
      "7\n",
      "8\n",
      "9\n",
      "10\n"
     ]
    }
   ],
   "source": [
    "# While statement\n",
    "k = 0\n",
    "while k < 10:\n",
    "    k += 1\n",
    "    print(k)"
   ]
  },
  {
   "cell_type": "code",
   "execution_count": 96,
   "id": "5badb651",
   "metadata": {},
   "outputs": [
    {
     "name": "stdout",
     "output_type": "stream",
     "text": [
      "1\n"
     ]
    }
   ],
   "source": [
    "\n",
    "# Try/except statement\n",
    "L = [1, 2, 3]\n",
    "try:\n",
    "    print(L[0])\n",
    "except:\n",
    "    print('OK!')\n",
    "\n"
   ]
  },
  {
   "cell_type": "code",
   "execution_count": 97,
   "id": "225c97a5",
   "metadata": {},
   "outputs": [
    {
     "name": "stdout",
     "output_type": "stream",
     "text": [
      "Error!\n"
     ]
    }
   ],
   "source": [
    "try:\n",
    "    print(L[10])\n",
    "except:\n",
    "    print('Error!')"
   ]
  },
  {
   "cell_type": "markdown",
   "id": "93735130",
   "metadata": {},
   "source": [
    "## Functions\n"
   ]
  },
  {
   "cell_type": "code",
   "execution_count": 98,
   "id": "7e045a27",
   "metadata": {},
   "outputs": [
    {
     "name": "stdout",
     "output_type": "stream",
     "text": [
      "5\n",
      "[1, 1, 2, 3, 5, 8, 13, 21, 34, 55, 89, 144]\n"
     ]
    }
   ],
   "source": [
    "def Sum_up(x, y): # summing up two numbers\n",
    "    return (x + y)\n",
    "\n",
    "z = Sum_up(2, 3)\n",
    "print(z)\n",
    "\n",
    "\n",
    "def Fib(n): # Output the first n fibonacci series\n",
    "    fib = [1, 1]\n",
    "    for k in range(n):\n",
    "        a = fib[-2] + fib[-1]\n",
    "        fib.append(a)\n",
    "    return fib\n",
    "\n",
    "print(Fib(10))"
   ]
  },
  {
   "cell_type": "markdown",
   "id": "f9fc3233",
   "metadata": {},
   "source": [
    "## Modules"
   ]
  },
  {
   "cell_type": "code",
   "execution_count": 99,
   "id": "39297a19",
   "metadata": {},
   "outputs": [
    {
     "data": {
      "text/plain": [
       "[1, 1, 2, 3, 5, 8, 13, 21, 34, 55, 89, 144]"
      ]
     },
     "execution_count": 99,
     "metadata": {},
     "output_type": "execute_result"
    }
   ],
   "source": [
    "# Modules\n",
    "import sys\n",
    "import fibo\n",
    "\n",
    "\n",
    "fibo.Fib1(10)\n",
    "fibo.Fib2(150)\n",
    "\n",
    "from fibo import Fib1, Fib2\n",
    "Fib1(10)\n",
    "Fib2(150)"
   ]
  },
  {
   "cell_type": "markdown",
   "id": "6c3d178f",
   "metadata": {},
   "source": [
    "## NUMPY\n"
   ]
  },
  {
   "cell_type": "code",
   "execution_count": null,
   "id": "23fd9b36",
   "metadata": {},
   "outputs": [],
   "source": [
    "import numpy as np\n",
    "\n",
    "a = np.array([2,3,4])\n",
    "a\n",
    "a.dtype\n",
    "\n",
    "b = np.array([1.2, 3.5, 5.1])\n",
    "b.dtype\n",
    "\n",
    "\n",
    "a = np.array([1,2,3,4])\n",
    "\n",
    "np.zeros((3,4))\n",
    "\n",
    "np.ones((2,3,4), dtype=np.int16)\n",
    "\n",
    "np.arange(10, 30, 5)\n",
    "for x in range"
   ]
  },
  {
   "cell_type": "code",
   "execution_count": 102,
   "id": "c093f3bb",
   "metadata": {},
   "outputs": [
    {
     "data": {
      "text/plain": [
       "array([0. , 0.3, 0.6, 0.9, 1.2, 1.5, 1.8])"
      ]
     },
     "execution_count": 102,
     "metadata": {},
     "output_type": "execute_result"
    }
   ],
   "source": [
    "np.arange(0, 2, 0.3)\n",
    "\n"
   ]
  },
  {
   "cell_type": "code",
   "execution_count": 101,
   "id": "55b40d83",
   "metadata": {},
   "outputs": [
    {
     "ename": "TypeError",
     "evalue": "'float' object cannot be interpreted as an integer",
     "output_type": "error",
     "traceback": [
      "\u001b[0;31m---------------------------------------------------------------------------\u001b[0m",
      "\u001b[0;31mTypeError\u001b[0m                                 Traceback (most recent call last)",
      "\u001b[0;32m<ipython-input-101-5671a4ca4edd>\u001b[0m in \u001b[0;36m<module>\u001b[0;34m\u001b[0m\n\u001b[0;32m----> 1\u001b[0;31m \u001b[0mrange\u001b[0m\u001b[0;34m(\u001b[0m\u001b[0;36m0.0\u001b[0m\u001b[0;34m,\u001b[0m \u001b[0;36m2.0\u001b[0m\u001b[0;34m,\u001b[0m \u001b[0;36m0.3\u001b[0m\u001b[0;34m)\u001b[0m\u001b[0;34m\u001b[0m\u001b[0;34m\u001b[0m\u001b[0m\n\u001b[0m\u001b[1;32m      2\u001b[0m \u001b[0;34m\u001b[0m\u001b[0m\n",
      "\u001b[0;31mTypeError\u001b[0m: 'float' object cannot be interpreted as an integer"
     ]
    }
   ],
   "source": [
    "range(0.0, 2.0, 0.3)\n",
    "\n"
   ]
  },
  {
   "cell_type": "code",
   "execution_count": 104,
   "id": "f3a953d3",
   "metadata": {},
   "outputs": [],
   "source": [
    "x = np.linspace(0, 2*np.pi, 100) # From, to, number of items\n",
    "f = np.sin(x)"
   ]
  },
  {
   "cell_type": "code",
   "execution_count": 106,
   "id": "6762b982",
   "metadata": {},
   "outputs": [
    {
     "data": {
      "text/plain": [
       "array([0, 1, 2, 3])"
      ]
     },
     "execution_count": 106,
     "metadata": {},
     "output_type": "execute_result"
    }
   ],
   "source": [
    "a = np.array([20,30,40,50])\n",
    "b = np.arange(4)\n",
    "b"
   ]
  },
  {
   "cell_type": "code",
   "execution_count": 107,
   "id": "30ad80b3",
   "metadata": {},
   "outputs": [
    {
     "data": {
      "text/plain": [
       "array([20, 29, 38, 47])"
      ]
     },
     "execution_count": 107,
     "metadata": {},
     "output_type": "execute_result"
    }
   ],
   "source": [
    "c = a - b\n",
    "c\n",
    "\n"
   ]
  },
  {
   "cell_type": "code",
   "execution_count": 109,
   "id": "ffbb3a60",
   "metadata": {},
   "outputs": [
    {
     "data": {
      "text/plain": [
       "array([0, 1, 4, 9])"
      ]
     },
     "execution_count": 109,
     "metadata": {},
     "output_type": "execute_result"
    }
   ],
   "source": [
    "b ** 2\n"
   ]
  },
  {
   "cell_type": "code",
   "execution_count": 110,
   "id": "6694aab8",
   "metadata": {},
   "outputs": [
    {
     "data": {
      "text/plain": [
       "array([ 9.12945251, -9.88031624,  7.4511316 , -2.62374854])"
      ]
     },
     "execution_count": 110,
     "metadata": {},
     "output_type": "execute_result"
    }
   ],
   "source": [
    "10*np.sin(a)\n"
   ]
  },
  {
   "cell_type": "code",
   "execution_count": 111,
   "id": "0863633b",
   "metadata": {},
   "outputs": [
    {
     "name": "stdout",
     "output_type": "stream",
     "text": [
      "[0 1 2 3 4 5]\n",
      "[[ 0  1  2]\n",
      " [ 3  4  5]\n",
      " [ 6  7  8]\n",
      " [ 9 10 11]]\n",
      "[[[ 0  1  2  3]\n",
      "  [ 4  5  6  7]\n",
      "  [ 8  9 10 11]]\n",
      "\n",
      " [[12 13 14 15]\n",
      "  [16 17 18 19]\n",
      "  [20 21 22 23]]]\n"
     ]
    }
   ],
   "source": [
    "a = np.arange(6) # 1-d array\n",
    "print(a)\n",
    "\n",
    "b = np.arange(12).reshape(4, 3) # 2-d array\n",
    "print(b)\n",
    "\n",
    "c = np.arange(24).reshape(2,3,4) # 3-d array\n",
    "print(c)"
   ]
  },
  {
   "cell_type": "code",
   "execution_count": 112,
   "id": "55f6e557",
   "metadata": {},
   "outputs": [
    {
     "data": {
      "text/plain": [
       "(3, 4)"
      ]
     },
     "execution_count": 112,
     "metadata": {},
     "output_type": "execute_result"
    }
   ],
   "source": [
    "# Product\n",
    "\n",
    "A = np.array([[1,1], [0,1]])\n",
    "B = np.array([[2,0], [3,4]])\n",
    "\n",
    "A * B #elementwise product\n",
    "A.dot(B) # matrix product\n",
    "np.dot(A,B) # another matrix product\n",
    "\n",
    "\n",
    "\n",
    "a = np.ones((2,3), dtype = int)\n",
    "b = np.random.random((2,3))\n",
    "b\n",
    "\n",
    "a *= 3\n",
    "b += a\n",
    "b\n",
    "\n",
    "\n",
    "# Dimension-level calculation\n",
    "b = np.arange(12).reshape(3,4)\n",
    "b\n",
    "\n",
    "b.sum(axis = 0) # sum of each column\n",
    "b.min(axis = 1) # min of each row\n",
    "b.cumsum(axis = 1) # cumulative sum along each row\n",
    "\n",
    "# Math operation\n",
    "B = np.arange(3)\n",
    "B\n",
    "np.exp(B)\n",
    "np.sqrt(B)\n",
    "C = np.array([2., -1., 4.])\n",
    "np.add(B, C)\n",
    "\n",
    "\n",
    "# Indexing and slicing\n",
    "a = np.arange(10) ** 3\n",
    "a\n",
    "a[2]\n",
    "a[2:5]\n",
    "\n",
    "a[:6:2] = -1000 # equivalent to a[0:6:2] = -1000\n",
    "a\n",
    "\n",
    "a[::-1] # reversed a\n",
    "a\n",
    "\n",
    "a = np.floor(10 * np.random.random((3,4)))\n",
    "a\n",
    "\n",
    "a.shape"
   ]
  },
  {
   "cell_type": "markdown",
   "id": "190d1c72",
   "metadata": {},
   "source": [
    "## PANDAS Examples"
   ]
  },
  {
   "cell_type": "code",
   "execution_count": 114,
   "id": "0387f338",
   "metadata": {},
   "outputs": [
    {
     "name": "stdout",
     "output_type": "stream",
     "text": [
      "            a         b         c\n",
      "0   -0.667891 -0.277781 -1.428196\n",
      "1    2.316860 -2.520261  0.457200\n",
      "2    0.723849  1.355707 -0.941498\n",
      "3    0.240905 -1.018755 -1.214736\n",
      "4   -1.145036  0.539026 -1.840258\n",
      "..        ...       ...       ...\n",
      "995 -0.538109 -0.191547  1.252555\n",
      "996  1.412668 -1.623055 -0.694901\n",
      "997 -1.701881  0.650185  1.299789\n",
      "998 -1.540052 -0.384000 -0.492213\n",
      "999  0.690980 -0.085957  0.668069\n",
      "\n",
      "[1000 rows x 3 columns]\n",
      "            a         b         c\n",
      "0   -0.667891 -0.277781 -1.428196\n",
      "1    2.316860 -2.520261  0.457200\n",
      "2    0.723849  1.355707 -0.941498\n",
      "3    0.240905 -1.018755 -1.214736\n",
      "4   -1.145036  0.539026 -1.840258\n",
      "..        ...       ...       ...\n",
      "995 -0.538109 -0.191547  1.252555\n",
      "996  1.412668 -1.623055 -0.694901\n",
      "997 -1.701881  0.650185  1.299789\n",
      "998 -1.540052 -0.384000 -0.492213\n",
      "999  0.690980 -0.085957  0.668069\n",
      "\n",
      "[1000 rows x 3 columns]\n"
     ]
    }
   ],
   "source": [
    "import pandas as pd\n",
    "# make a data frame\n",
    "data = np.random.normal(0, 1, size=[1000, 3])  # generate data\n",
    "df = pd.DataFrame(data, columns=['a', 'b', 'c'])  # generate a data frame\n",
    "print(df)\n",
    "\n",
    "df = pd.DataFrame({'a': data[:, 0],\n",
    "                   'b': data[:, 1],\n",
    "                   'c': data[:, 2]})\n",
    "print(df)"
   ]
  },
  {
   "cell_type": "code",
   "execution_count": 115,
   "id": "746bc0ae",
   "metadata": {},
   "outputs": [
    {
     "name": "stdout",
     "output_type": "stream",
     "text": [
      "0     -0.667891\n",
      "1      2.316860\n",
      "2      0.723849\n",
      "3      0.240905\n",
      "4     -1.145036\n",
      "         ...   \n",
      "995   -0.538109\n",
      "996    1.412668\n",
      "997   -1.701881\n",
      "998   -1.540052\n",
      "999    0.690980\n",
      "Name: a, Length: 1000, dtype: float64\n",
      "2    0.723849\n",
      "3    0.240905\n",
      "4   -1.145036\n",
      "5    1.065738\n",
      "6    0.532488\n",
      "7   -0.388328\n",
      "8   -0.821276\n",
      "9   -0.898393\n",
      "Name: a, dtype: float64\n",
      "            a         b         c\n",
      "2    0.723849  1.355707 -0.941498\n",
      "4   -1.145036  0.539026 -1.840258\n",
      "6    0.532488  0.669104  0.038565\n",
      "7   -0.388328  0.182952 -0.524834\n",
      "11  -0.118624  0.339778  0.874954\n",
      "..        ...       ...       ...\n",
      "982 -0.718028  0.837888  0.311209\n",
      "984 -0.369337  0.084683  0.707914\n",
      "986 -0.792021  1.248751  0.717890\n",
      "992 -2.322126  0.615503  0.385959\n",
      "997 -1.701881  0.650185  1.299789\n",
      "\n",
      "[497 rows x 3 columns]\n",
      "            a         b         c\n",
      "2    0.723849  1.355707 -0.941498\n",
      "4   -1.145036  0.539026 -1.840258\n",
      "7   -0.388328  0.182952 -0.524834\n",
      "12  -0.762453  1.413229 -0.607996\n",
      "15  -0.436121  1.085824 -1.510027\n",
      "..        ...       ...       ...\n",
      "969 -0.491139  0.235560 -0.352256\n",
      "972 -1.308120  0.603266 -1.269760\n",
      "974  0.373377  1.439142 -1.111802\n",
      "975 -0.790042  0.227224 -0.394295\n",
      "978 -0.784826  1.103174 -0.878109\n",
      "\n",
      "[262 rows x 3 columns]\n"
     ]
    },
    {
     "name": "stderr",
     "output_type": "stream",
     "text": [
      "/opt/conda/lib/python3.7/site-packages/ipykernel_launcher.py:5: UserWarning: Boolean Series key will be reindexed to match DataFrame index.\n",
      "  \"\"\"\n"
     ]
    }
   ],
   "source": [
    "\n",
    "# Indexing\n",
    "print(df['a'])\n",
    "print(df['a'][2:10])\n",
    "print(df[df['b'] > 0])\n",
    "print(df[df['b'] > 0][df['c'] < 0])\n",
    "\n"
   ]
  },
  {
   "cell_type": "code",
   "execution_count": 117,
   "id": "fb30ee56",
   "metadata": {},
   "outputs": [],
   "source": [
    "# save data frame\n",
    "df.to_csv('random_matrix.csv', index=False)\n",
    "\n",
    "# read from csv file\n",
    "df = pd.read_csv('random_matrix.csv')\n",
    "\n",
    "\n",
    "\n",
    "\n"
   ]
  },
  {
   "cell_type": "markdown",
   "id": "a14b3241",
   "metadata": {},
   "source": [
    "## SCIPY and PYPLOT Examples "
   ]
  },
  {
   "cell_type": "code",
   "execution_count": 35,
   "id": "8cc9e642",
   "metadata": {},
   "outputs": [
    {
     "data": {
      "image/png": "[encoded data removed]",
      "text/plain": [
       "<Figure size 648x648 with 1 Axes>"
      ]
     },
     "metadata": {
      "needs_background": "light"
     },
     "output_type": "display_data"
    },
    {
     "data": {
      "image/png": "[encoded data removed]",
      "text/plain": [
       "<Figure size 432x288 with 1 Axes>"
      ]
     },
     "metadata": {
      "needs_background": "light"
     },
     "output_type": "display_data"
    },
    {
     "data": {
      "image/png": "[encoded data removed]",
      "text/plain": [
       "<Figure size 432x288 with 1 Axes>"
      ]
     },
     "metadata": {
      "needs_background": "light"
     },
     "output_type": "display_data"
    },
    {
     "data": {
      "image/png": "[encoded data removed]",
      "text/plain": [
       "<Figure size 432x288 with 1 Axes>"
      ]
     },
     "metadata": {
      "needs_background": "light"
     },
     "output_type": "display_data"
    }
   ],
   "source": [
    "from matplotlib import pyplot as plt\n",
    "%matplotlib inline\n",
    "import numpy as np\n",
    "from scipy.stats import norm, beta\n",
    "plt.figure(figsize=[9, 9])  # open a figure (not necessary)\n",
    "X = np.linspace(0, 30, 1000)\n",
    "Y = np.sin(X)\n",
    "\n",
    "plt.plot(X, Y)  # plot function\n",
    "plt.show()\n",
    "\n",
    "\n",
    "Y = np.random.normal(0, 1, 1000)\n",
    "plt.hist(Y, bins=20)  # histogram\n",
    "plt.show()\n",
    "\n",
    "\n",
    "X = np.random.normal(0, 0.1, 1000)\n",
    "eps = np.random.normal(0, 0.1, 1000)\n",
    "Y = 0.7*X + eps\n",
    "plt.scatter(X, Y)  # scatters\n",
    "plt.xlabel('X')\n",
    "plt.ylabel('Y')\n",
    "plt.show()\n",
    "\n",
    "\n",
    "# Hist and density plot\n",
    "X = np.linspace(0, 1, 1000)\n",
    "Y = np.random.beta(a=13, b=4, size=1000)\n",
    "Z = beta.pdf(x=X, a=13, b=4)\n",
    "plt.hist(Y, density=True, bins=20)\n",
    "plt.plot(X, Z)\n",
    "plt.show()"
   ]
  },
  {
   "cell_type": "code",
   "execution_count": null,
   "id": "99c0fcb1",
   "metadata": {},
   "outputs": [],
   "source": []
  }
 ],
 "metadata": {
  "kernelspec": {
   "display_name": "Python 3",
   "language": "python",
   "name": "python3"
  },
  "language_info": {
   "codemirror_mode": {
    "name": "ipython",
    "version": 3
   },
   "file_extension": ".py",
   "mimetype": "text/x-python",
   "name": "python",
   "nbconvert_exporter": "python",
   "pygments_lexer": "ipython3",
   "version": "3.8.8"
  }
 },
 "nbformat": 4,
 "nbformat_minor": 5
}
