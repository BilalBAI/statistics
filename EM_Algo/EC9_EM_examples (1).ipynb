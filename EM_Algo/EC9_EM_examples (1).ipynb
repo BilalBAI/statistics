{
 "cells": [
  {
   "cell_type": "code",
   "execution_count": 1,
   "id": "abb20e51",
   "metadata": {},
   "outputs": [],
   "source": [
    "%matplotlib inline \n",
    "import numpy as np\n",
    "from scipy.stats import norm\n",
    "from matplotlib import pyplot as plt\n",
    "\n"
   ]
  },
  {
   "cell_type": "markdown",
   "id": "1ebf145f",
   "metadata": {},
   "source": [
    "## EM for Mixture Distribution\n",
    "### Generate data"
   ]
  },
  {
   "cell_type": "code",
   "execution_count": 2,
   "id": "66aab9bd",
   "metadata": {},
   "outputs": [],
   "source": [
    "np.random.seed(6011)\n",
    "Phi = np.array([0.3, 0.7])\n",
    "Loc = np.array([0, 2])\n",
    "n = 500\n",
    "Y = np.zeros(n)\n",
    "for i in range(n):\n",
    "    if np.random.uniform() < Phi[0]:\n",
    "        Y[i] = np.random.normal(loc=Loc[0])\n",
    "    else:\n",
    "        Y[i] = np.random.normal(loc=Loc[1])\n",
    "\n",
    "\n",
    "def f(j, y):# Initialize\n",
    "    return norm.pdf(y, loc=Loc[j])\n",
    "\n",
    "\n",
    "def P_phi(i, j, Phi_hat):\n",
    "    \"\"\"\n",
    "    p_{\\phi_hat}(u_i = j | y_i)\n",
    "    \"\"\"\n",
    "    nominaor = Phi_hat[j]*f(j, Y[i])\n",
    "    denominator = 0\n",
    "    for j in range(2):\n",
    "        denominator += Phi_hat[j]*f(j, Y[i])\n",
    "    return nominaor/denominator\n",
    "\n",
    "Phi_hat = np.array([0.5, 0.5]) \n",
    "niter = 50\n",
    "Phi_store = np.zeros((niter, 2))\n",
    "llk_store = np.zeros(niter)\n",
    "# EM \n",
    "for k in range(niter):\n",
    "    Phi_store[k,:] = Phi_hat\n",
    "    llk_store[k] = np.sum(np.log(Phi_hat[0] * f(0, Y) + Phi_hat[1] * f(1, Y)))\n",
    "    for j in range(2):\n",
    "        Phi_hat[j] = np.average(P_phi(np.array(range(n)), j, Phi_store[k,:]))\n",
    "    Phi_hat = Phi_hat / Phi_hat.sum()\n",
    "\n",
    "    \n",
    "\n",
    "\n"
   ]
  },
  {
   "cell_type": "code",
   "execution_count": 7,
   "id": "3c29c49d",
   "metadata": {},
   "outputs": [],
   "source": [
    "# Initialize\n",
    "\n",
    "Phi_hat = np.array([0.5, 0.5]) \n",
    "niter = 50\n",
    "Phi_store = np.zeros((niter, 2))\n",
    "llk_store = np.zeros(niter)\n",
    "# EM \n",
    "for k in range(niter):\n",
    "    Phi_store[k,:] = Phi_hat\n",
    "    llk_store[k] = np.sum(np.log(Phi_hat[0] * f(0, Y) + Phi_hat[1] * f(1, Y)))\n",
    "    for j in range(2):\n",
    "        Phi_hat[j] = np.average(P_phi(np.array(range(n)), j, Phi_hat))\n",
    "    Phi_hat = Phi_hat / Phi_hat.sum()\n",
    "\n",
    "\n"
   ]
  },
  {
   "cell_type": "code",
   "execution_count": 3,
   "id": "7532ba16",
   "metadata": {},
   "outputs": [
    {
     "data": {
      "image/png": "[encoded data removed]",
      "text/plain": [
       "<Figure size 432x288 with 2 Axes>"
      ]
     },
     "metadata": {
      "needs_background": "light"
     },
     "output_type": "display_data"
    }
   ],
   "source": [
    "# Visualization \n",
    "x_plot = np.arange(niter)+1\n",
    "fig, ax = plt.subplots(nrows = 2, ncols = 1)\n",
    "ax[0].plot(x_plot, Phi_store[:, 0], color = 'blue', label = '$\\psi_1$')\n",
    "ax[0].plot(x_plot, Phi_store[:, 1], color = 'red', label = '$\\psi_2$')\n",
    "ax[0].legend()\n",
    "\n",
    "ax[1].plot(x_plot, llk_store, label = 'log-likelihood')\n",
    "ax[1].legend()\n",
    "plt.show()"
   ]
  },
  {
   "cell_type": "markdown",
   "id": "09e184d9",
   "metadata": {},
   "source": [
    "## Mixure Model (Parametric Case)"
   ]
  },
  {
   "cell_type": "code",
   "execution_count": 8,
   "id": "66986826",
   "metadata": {},
   "outputs": [],
   "source": [
    "from scipy.stats import norm\n"
   ]
  },
  {
   "cell_type": "code",
   "execution_count": 9,
   "id": "db45872a",
   "metadata": {},
   "outputs": [],
   "source": [
    "\n",
    "# generate data\n",
    "np.random.seed(6011)\n",
    "Phi = np.array([0.3, 0.7])\n",
    "Loc = np.array([0, 2])\n",
    "n = 500\n",
    "Y = np.zeros(n)\n",
    "for i in range(n):\n",
    "    if np.random.uniform() < Phi[0]:\n",
    "        Y[i] = np.random.normal(loc=Loc[0])\n",
    "    else:\n",
    "        Y[i] = np.random.normal(loc=Loc[1])\n"
   ]
  },
  {
   "cell_type": "code",
   "execution_count": 10,
   "id": "13ea9311",
   "metadata": {},
   "outputs": [],
   "source": [
    "\n",
    "def f(loc, y):\n",
    "    return norm.pdf(y, loc=loc)\n",
    "\n",
    "def P_phi(i, j, Phi_hat, Mu_hat):\n",
    "    nominaor = Phi_hat[j]*f(Mu_hat[j], Y[i])\n",
    "    denominator = 0\n",
    "    for j in range(2):\n",
    "        denominator += Phi_hat[j]*f(Mu_hat[j], Y[i])\n",
    "    return nominaor/denominator\n"
   ]
  },
  {
   "cell_type": "code",
   "execution_count": 12,
   "id": "c032cc3b",
   "metadata": {},
   "outputs": [],
   "source": [
    "\n",
    "Phi_hat = np.array([0.5, 0.5])  # Initialize\n",
    "Mu_hat = [-0.5, 0]\n",
    "\n",
    "\n",
    "niter = 50\n",
    "Phi_store = np.zeros((niter, 2))\n",
    "Mu_store = np.zeros((niter, 2))\n",
    "\n",
    "Phi_new = np.zeros(2)\n",
    "Mu_new = np.zeros(2)\n",
    "\n",
    "llk_store = np.zeros(niter)\n",
    "\n",
    "\n",
    "for k in range(niter):\n",
    "    Phi_store[k,:] = Phi_hat\n",
    "    Mu_store[k,:] = Mu_hat\n",
    "    llk_store[k] = np.sum(np.log(Phi_hat[0] * f(Mu_hat[0], Y) + Phi_hat[1] * f(Mu_hat[1], Y)))\n",
    "\n",
    "    for j in range(2):\n",
    "        Phi_new[j] = np.average(P_phi(np.array(range(n)), j, Phi_hat, Mu_hat))\n",
    "    Phi_new = Phi_new / Phi_new.sum()\n",
    "    for j in range(2):\n",
    "        nominator = np.dot(Y, P_phi(np.array(range(n)), j, Phi_hat, Mu_hat))\n",
    "        denominator = np.sum(P_phi(np.array(range(n)), j, Phi_hat, Mu_hat))\n",
    "        Mu_new[j] = nominator/denominator\n",
    "\n",
    "    Phi_hat = Phi_new.copy()\n",
    "    Mu_hat = Mu_new.copy()"
   ]
  },
  {
   "cell_type": "code",
   "execution_count": 13,
   "id": "b088550a",
   "metadata": {},
   "outputs": [
    {
     "data": {
      "image/png": "[encoded data removed]",
      "text/plain": [
       "<Figure size 432x288 with 3 Axes>"
      ]
     },
     "metadata": {
      "needs_background": "light"
     },
     "output_type": "display_data"
    }
   ],
   "source": [
    "\n",
    "x_plot = np.arange(niter)+1\n",
    "fig, ax = plt.subplots(nrows = 3, ncols = 1)\n",
    "ax[0].plot(x_plot, Phi_store[:, 0], color = 'blue', label = '$\\psi_1$')\n",
    "ax[0].plot(x_plot, Phi_store[:, 1], color = 'red', label = '$\\psi_2$')\n",
    "ax[0].legend()\n",
    "ax[1].plot(x_plot, Mu_store[:, 0], color = 'blue', label = '$\\mu_1$')\n",
    "ax[1].plot(x_plot, Mu_store[:, 1], color = 'red', label = '$\\mu_2$')\n",
    "ax[1].legend()\n",
    "ax[2].plot(x_plot, llk_store, label = 'log-likelihood')\n",
    "ax[2].legend()\n",
    "plt.show()\n",
    "\n"
   ]
  },
  {
   "cell_type": "markdown",
   "id": "4c57dff0",
   "metadata": {},
   "source": [
    "## Logistic Ramdom Effects\n"
   ]
  },
  {
   "cell_type": "code",
   "execution_count": 26,
   "id": "429c7758",
   "metadata": {},
   "outputs": [],
   "source": [
    "\n",
    "import scipy.stats\n",
    "\n",
    "I = 10\n",
    "J = 15\n",
    "\n",
    "X = np.zeros((I,J))\n",
    "\n",
    "for i in range(I):\n",
    "    for j in range(J):\n",
    "        X[i,j] = (j+1) / J\n",
    "\n",
    "Y = np.array([\n",
    "    [1, 0, 0, 0, 0, 1, 1, 0, 1, 1, 1, 1, 1, 1, 1],\n",
    "    [0, 1, 1, 1, 1, 1, 1, 1, 1, 1, 1, 1, 1, 1, 1],\n",
    "    [0, 1, 0, 1, 1, 1, 1, 1, 1, 1, 1, 1, 1, 1, 1],\n",
    "    [1, 1, 1, 1, 1, 1, 1, 1, 1, 1, 1, 1, 1, 1, 1],\n",
    "    [0, 1, 1, 1, 1, 1, 1, 1, 1, 1, 0, 1, 1, 1, 1],\n",
    "    [0, 0, 0, 1, 0, 1, 1, 1, 0, 1, 1, 1, 1, 1, 1],\n",
    "    [0, 1, 0, 0, 1, 1, 1, 1, 1, 1, 1, 1, 1, 1, 1],\n",
    "    [1, 1, 1, 1, 1, 1, 1, 1, 1, 1, 1, 1, 1, 1, 1],\n",
    "    [1, 0, 0, 1, 1, 0, 1, 1, 1, 1, 1, 1, 1, 1, 1],\n",
    "    [1, 1, 1, 1, 1, 1, 1, 1, 1, 1, 1, 1, 1, 1, 1]\n",
    "])\n",
    "\n",
    "\n",
    "def logf_comp(Y, X, u, beta, sigma2):\n",
    "    I, J = Y.shape\n",
    "\n",
    "    logllk =  -0.5 * I *  np.log(sigma2) - np.sum(u ** 2) / (2 * sigma2)\n",
    "\n",
    "    for i in range(I):\n",
    "        logllk = logllk + np.sum(Y[i,:] * (beta * X[i,:] + u[i])) - np.sum(np.log(1 + np.exp(beta * X[i, :] + u[i])))\n",
    "\n",
    "    return logllk\n",
    "\n",
    "def logf_ui(Y, X, ui, i, beta, sigma2):\n",
    "    I, J = Y.shape\n",
    "\n",
    "    logllk = -0.5 * np.log(sigma2) - ui ** 2 / (2 * sigma2)\n",
    "\n",
    "    logllk = logllk + np.sum(Y[i,:] * (beta * X[i,:] + ui)) - np.sum(np.log(1 + np.exp(beta * X[i, :] + ui)))\n",
    "\n",
    "    return logllk\n",
    "\n",
    "\n",
    "def MH_u(Y, X, ind, beta, sigma2, u0, sigma0, nburnin, nthin, nsample):\n",
    "    u_store = np.zeros(nsample)\n",
    "\n",
    "    g = nburnin\n",
    "\n",
    "    # Initialization\n",
    "    u_iter = u0\n",
    "\n",
    "    for i in range(nsample):\n",
    "        for j in range(g):\n",
    "            u_new = scipy.stats.norm.rvs(loc = 0, scale = sigma0)\n",
    "            logalpha = logf_ui(Y, X, u_new, ind, beta, sigma2) + scipy.stats.norm.logpdf(x = u_iter, loc= 0, scale = sigma0) - logf_ui(Y, X, u_iter, ind, beta, sigma2) - scipy.stats.norm.logpdf(x=u_new, loc=0, scale=sigma0)\n",
    "            alpha = np.min([np.exp(logalpha), 1])\n",
    "            unif = scipy.stats.uniform.rvs()\n",
    "            if (unif <= alpha):\n",
    "                u_iter = u_new\n",
    "        u_store[i] = u_iter\n",
    "        g = nthin\n",
    "\n",
    "    return u_store\n",
    "\n",
    "# Initialization\n",
    "\n",
    "np.random.seed(6011)\n",
    "beta_init = 2\n",
    "sigma2_init = 1\n",
    "\n",
    "\n",
    "\n",
    "M = 2000\n",
    "sigma0 = 1\n",
    "nthin = 5\n",
    "nburnin = 200\n",
    "\n",
    "u0 = np.zeros((I, M))\n",
    "u_start = 0\n",
    "\n",
    "\n",
    "\n"
   ]
  },
  {
   "cell_type": "code",
   "execution_count": 27,
   "id": "2dd589ea",
   "metadata": {},
   "outputs": [],
   "source": [
    "\n",
    "# MCEM algorithm\n",
    "EM_iters = 50\n",
    "beta_iter = beta_init\n",
    "sigma2_iter = sigma2_init\n",
    "\n",
    "beta_store = np.zeros(EM_iters)\n",
    "sigma2_store = np.zeros(EM_iters)\n",
    "\n",
    "Y_vec = np.matrix.flatten(Y)\n",
    "X_vec = np.matrix.flatten(X)\n",
    "\n",
    "\n",
    "for i_em in range(EM_iters):\n",
    "    beta_store[i_em] = beta_iter\n",
    "    sigma2_store[i_em] = sigma2_iter\n",
    "\n",
    "    # weights = np.zeros(M)\n",
    "\n",
    "    # Importance weights\n",
    "    # for m in range(M):\n",
    "    #     weights[m] = np.exp( logf_comp(Y, X, u0[:,m], beta_iter, sigma2_iter) - logf_comp(Y, X, u0[:,m], beta_init, sigma2_init) )\n",
    "    # weights_sum = np.sum(weights)\n",
    "\n",
    "    for ind in range(I):\n",
    "        u0[ind, :] = MH_u(Y, X, ind, beta_iter, sigma2_iter, u_start, sigma0, nburnin, nthin, M)\n",
    "    # Update sigma2\n",
    "    u0sq = np.sum(u0 ** 2, axis=0)\n",
    "\n",
    "    sigma2_new = np.sum(u0sq) / M / I\n",
    "\n",
    "    Delta = 0\n",
    "    H = 0\n",
    "    # Update beta\n",
    "    stepsize = 0\n",
    "    for m in range(M):\n",
    "        u_vec = np.repeat(u0[:,m], J)\n",
    "        p_vec = 1.0 / (1 + np.exp(-beta_iter * X_vec - u_vec))\n",
    "\n",
    "        Delta += np.sum(X_vec * (Y_vec - p_vec)) / M\n",
    "        H += np.sum( (X_vec ** 2) * p_vec * (1 - p_vec))/ M\n",
    "\n",
    "\n",
    "    # XTWX = np.dot(np.dot(X_vec.transpose(), W_exp), X_vec)\n",
    "    stepsize = 1.0 / H * Delta\n",
    "    beta_new = beta_iter + stepsize\n",
    "\n",
    "    beta_iter = beta_new\n",
    "    sigma2_iter = sigma2_new\n",
    "#     print(beta_new, sigma2_new)\n",
    "\n"
   ]
  },
  {
   "cell_type": "code",
   "execution_count": 28,
   "id": "745451a8",
   "metadata": {},
   "outputs": [
    {
     "data": {
      "image/png": "[encoded data removed]",
      "text/plain": [
       "<Figure size 432x288 with 1 Axes>"
      ]
     },
     "metadata": {
      "needs_background": "light"
     },
     "output_type": "display_data"
    }
   ],
   "source": [
    "\n",
    "betahat = 6.132\n",
    "sigma2hat = 1.766\n",
    "\n",
    "fig = plt.figure()\n",
    "\n",
    "plt.plot(np.arange(EM_iters)+1, beta_store, color = 'red', marker = 'o', label = '$\\\\beta$')\n",
    "plt.plot(np.arange(EM_iters)+1, sigma2_store, color = 'blue', marker = '^', label = '$\\sigma^2$')\n",
    "plt.axhline(y = betahat, color = 'red', linestyle = 'dashed', label = '$\\hat{\\\\beta}$')\n",
    "plt.axhline(y = sigma2hat, color = 'blue', linestyle = 'dashed', label = '$\\hat{\\sigma}^2$')\n",
    "plt.legend()\n",
    "plt.show()"
   ]
  },
  {
   "cell_type": "markdown",
   "id": "a04422c7",
   "metadata": {},
   "source": [
    "## Logistic Random Effects Importance Sampling"
   ]
  },
  {
   "cell_type": "code",
   "execution_count": 20,
   "id": "e2041cf9",
   "metadata": {},
   "outputs": [
    {
     "name": "stderr",
     "output_type": "stream",
     "text": [
      "/opt/conda/lib/python3.7/site-packages/ipykernel_launcher.py:41: RuntimeWarning: overflow encountered in exp\n"
     ]
    },
    {
     "data": {
      "image/png": "[encoded data removed]",
      "text/plain": [
       "<Figure size 432x288 with 10 Axes>"
      ]
     },
     "metadata": {
      "needs_background": "light"
     },
     "output_type": "display_data"
    }
   ],
   "source": [
    "beta_init = 6\n",
    "sigma2_init = 1.7\n",
    "\n",
    "\n",
    "\n",
    "M = 2000\n",
    "sigma0 = 1\n",
    "nthin = 5\n",
    "nburnin = 200\n",
    "\n",
    "u0 = np.zeros((I, M))\n",
    "u_start = 0\n",
    "# Obtain u0\n",
    "\n",
    "for ind in range(I):\n",
    "    u0[ind,:] = MH_u(Y, X, ind, beta_init, sigma2_init, u_start, sigma0, nburnin, nthin, M)\n",
    "\n",
    "x_linspace = np.linspace(-3,3,10000)\n",
    "\n",
    "fig, ax = plt.subplots(nrows = I//5, ncols = 5)\n",
    "import scipy.integrate\n",
    "\n",
    "for ind in range(I):\n",
    "    dens_linspace = np.zeros_like(x_linspace)\n",
    "    C = scipy.integrate.quad(lambda x: np.exp(logf_ui(Y, X, x, ind, beta_init, sigma2_init)), a = -np.inf, b = np.inf)\n",
    "    for i in range(len(x_linspace)):\n",
    "        dens_linspace[i] = np.exp(logf_ui(Y, X, x_linspace[i], ind, beta_init, sigma2_init)) / C[0]\n",
    "\n",
    "    u_iter = np.zeros(I)\n",
    "    rowind = ind // 5\n",
    "    colind = ind % 5\n",
    "    ax[rowind, colind].hist(u0[ind, :], bins = 50, density=True)\n",
    "    ax[rowind, colind].plot(x_linspace, dens_linspace, color = 'red', label = 'density')\n",
    "\n",
    "plt.show()\n",
    "\n"
   ]
  },
  {
   "cell_type": "code",
   "execution_count": 23,
   "id": "58a2c401",
   "metadata": {},
   "outputs": [],
   "source": [
    "\n",
    "\n",
    "# MCEM algorithm\n",
    "EM_iters = 50\n",
    "beta_iter = beta_init\n",
    "sigma2_iter = sigma2_init\n",
    "\n",
    "beta_store = np.zeros(EM_iters)\n",
    "sigma2_store = np.zeros(EM_iters)\n",
    "\n",
    "Y_vec = np.matrix.flatten(Y)\n",
    "X_vec = np.matrix.flatten(X)"
   ]
  },
  {
   "cell_type": "code",
   "execution_count": 24,
   "id": "b1002433",
   "metadata": {},
   "outputs": [
    {
     "name": "stdout",
     "output_type": "stream",
     "text": [
      "6.051689614416039 1.715321615861121 0.05168961441603856\n",
      "6.082010653941433 1.7360071068516014 0.030321039525393927\n",
      "6.102116229695223 1.7567945677629315 0.020105575753790822\n",
      "6.116904519159504 1.775791935338137 0.014788289464280653\n",
      "6.128555600371667 1.7925008932370379 0.011651081212163034\n",
      "6.138103616757796 1.8069576102389415 0.00954801638612945\n",
      "6.14609405910272 1.8193788730632412 0.007990442344923413\n",
      "6.152854630021408 1.830022565828895 0.006760570918688182\n",
      "6.158607970520327 1.8391361400992134 0.005753340498918902\n",
      "6.163520014941279 1.8469402549520606 0.004912044420951961\n",
      "6.167721916057119 1.8536259450366674 0.004201901115839451\n",
      "6.171320885211957 1.8593566016217284 0.0035989691548373886\n",
      "6.17440620090332 1.8642713429397457 0.0030853156913635354\n",
      "6.17705297435057 1.8684884902999717 0.002646773447249733\n",
      "6.17932477324911 1.8721087173877478 0.0022717988985403114\n",
      "6.181275593992548 1.875217768190252 0.0019508207434379848\n",
      "6.182951416605954 1.8778887575457268 0.001675822613406773\n",
      "6.1843914656741195 1.8801841047912422 0.0014400490681653968\n",
      "6.185629249823189 1.8821571566598447 0.0012377841490698802\n",
      "6.186693427238139 1.883853550755329 0.0010641774149494703\n",
      "6.187608531001612 1.8853123634059514 0.0009151037634724041\n",
      "6.188395579715898 1.8865670782721569 0.0007870487142864313\n",
      "6.189072593309065 1.8876464056192943 0.0006770135931674378\n",
      "6.189655029936161 1.8885749768027178 0.0005824366270963272\n",
      "6.190156156881734 1.8893739341455293 0.0005011269455733304\n",
      "6.190587366036142 1.8900614328547687 0.0004312091544077414\n",
      "6.190958442669107 1.8906530687608245 0.0003710766329650926\n",
      "6.191277794739292 1.8911622433419304 0.0003193520701850987\n",
      "6.191552648774913 1.8916004756013312 0.00027485403562098174\n",
      "6.191789217377133 1.8919776688123946 0.00023656860222033644\n",
      "6.1919928425897455 1.8923023388687508 0.00020362521261197124\n",
      "6.192168118710705 1.892581809918965 0.00017527612095959348\n",
      "6.192318997566506 1.8928223820864425 0.00015087885580120284\n",
      "6.1924488788079595 1.8930294753419812 0.00012988124145371012\n",
      "6.192560687398861 1.8932077529822877 0.00011180859090148135\n",
      "6.19265694014399 1.8933612276517244 9.625274512905618e-05\n",
      "6.192739802829036 1.8934933524096795 8.286268504641675e-05\n",
      "6.192811139313735 1.8936070989783886 7.133648469875064e-05\n",
      "6.1928725537236495 1.8937050249947895 6.141440991523959e-05\n",
      "6.192925426719859 1.8937893318256556 5.287299620997944e-05\n",
      "6.1929709466845075 1.8938619142805972 4.551996464872343e-05\n",
      "6.193010136539901 1.8939244033660638 3.918985539349269e-05\n",
      "6.193043876816216 1.8939782030602186 3.374027631480494e-05\n",
      "6.193072925495323 1.8940245219491167 2.9048679106621967e-05\n",
      "6.193097935083297 1.894064400445376 2.500958797359102e-05\n",
      "6.193119467300184 1.894098734208517 2.1532216886696607e-05\n",
      "6.193138005720682 1.8941282942987558 1.8538420498090416e-05\n",
      "6.193153966652406 1.8941537445211232 1.5960931723673772e-05\n",
      "6.193167708498054 1.89417565635258 1.3741845647710146e-05\n",
      "6.193179539813262 1.8941945217896428 1.1831315208745892e-05\n"
     ]
    }
   ],
   "source": [
    "\n",
    "\n",
    "burnin_iter = 0\n",
    "for i_em in range(EM_iters):\n",
    "    beta_store[i_em] = beta_iter\n",
    "    sigma2_store[i_em] = sigma2_iter\n",
    "\n",
    "    if i_em < burnin_iter:\n",
    "        for ind in range(I):\n",
    "            u0[ind, :] = MH_u(Y, X, ind, beta_iter, sigma2_iter, u_start, sigma0, nburnin, nthin, M)\n",
    "        # Update sigma2\n",
    "        u0sq = np.sum(u0 ** 2, axis=0)\n",
    "\n",
    "        sigma2_new = np.sum(u0sq) / M / I\n",
    "\n",
    "        Delta = 0\n",
    "        H = 0\n",
    "        # Update beta\n",
    "        stepsize = 0\n",
    "        for m in range(M):\n",
    "            u_vec = np.repeat(u0[:, m], J)\n",
    "            p_vec = 1.0 / (1 + np.exp(-beta_iter * X_vec - u_vec))\n",
    "\n",
    "            Delta += np.sum(X_vec * (Y_vec - p_vec)) / M\n",
    "            H += np.sum((X_vec ** 2) * p_vec * (1 - p_vec)) / M\n",
    "\n",
    "        # XTWX = np.dot(np.dot(X_vec.transpose(), W_exp), X_vec)\n",
    "        stepsize = 1.0 / H * Delta\n",
    "        beta_new = beta_iter + stepsize\n",
    "        beta_init = beta_new\n",
    "        sigma2_init = sigma2_new\n",
    "    else:\n",
    "\n",
    "        weights = np.zeros(M)\n",
    "\n",
    "        # Importance weights\n",
    "        for m in range(M):\n",
    "            weights[m] = np.exp( logf_comp(Y, X, u0[:,m], beta_iter, sigma2_iter) - \n",
    "                                logf_comp(Y, X, u0[:,m], beta_init, sigma2_init) )\n",
    "        weights_sum = np.sum(weights)\n",
    "\n",
    "        # Update sigma2\n",
    "        u0sq = np.sum(u0 ** 2, axis=0)\n",
    "\n",
    "        sigma2_new = np.sum(weights * u0sq) / weights_sum / I\n",
    "\n",
    "        Delta = 0\n",
    "        H = 0\n",
    "        # Update beta\n",
    "        stepsize = 0\n",
    "        for m in range(M):\n",
    "            u_vec = np.repeat(u0[:,m], J)\n",
    "            p_vec = 1.0 / (1 + np.exp(-beta_iter * X_vec - u_vec))\n",
    "\n",
    "            Delta += np.sum(X_vec * (Y_vec - p_vec)) * weights[m] / weights_sum\n",
    "            H += np.sum( (X_vec ** 2) * p_vec * (1 - p_vec)) * weights[m] / weights_sum\n",
    "\n",
    "\n",
    "        # XTWX = np.dot(np.dot(X_vec.transpose(), W_exp), X_vec)\n",
    "        stepsize = 1.0 / H * Delta\n",
    "        beta_new = beta_iter + stepsize\n",
    "\n",
    "    beta_iter = beta_new\n",
    "    sigma2_iter = sigma2_new\n",
    "    print(beta_new, sigma2_new, stepsize)\n",
    "\n"
   ]
  },
  {
   "cell_type": "code",
   "execution_count": 25,
   "id": "e771d2ef",
   "metadata": {},
   "outputs": [
    {
     "data": {
      "image/png": "[encoded data removed]",
      "text/plain": [
       "<Figure size 432x288 with 1 Axes>"
      ]
     },
     "metadata": {
      "needs_background": "light"
     },
     "output_type": "display_data"
    }
   ],
   "source": [
    "\n",
    "betahat = 6.132\n",
    "sigma2hat = 1.766\n",
    "\n",
    "fig = plt.figure()\n",
    "\n",
    "plt.plot(np.arange(EM_iters)+1, beta_store, color = 'red', marker = 'o', label = '$\\\\beta$')\n",
    "plt.plot(np.arange(EM_iters)+1, sigma2_store, color = 'blue', marker = '^', label = '$\\sigma^2$')\n",
    "plt.axhline(y = betahat, color = 'red', linestyle = 'dashed', label = '$\\hat{\\\\beta}$')\n",
    "plt.axhline(y = sigma2hat, color = 'blue', linestyle = 'dashed', label = '$\\hat{\\sigma}^2$')\n",
    "plt.legend()\n",
    "plt.show()"
   ]
  },
  {
   "cell_type": "code",
   "execution_count": null,
   "id": "e11415a3",
   "metadata": {},
   "outputs": [],
   "source": []
  }
 ],
 "metadata": {
  "kernelspec": {
   "display_name": "Python 3.8.8 ('base')",
   "language": "python",
   "name": "python3"
  },
  "language_info": {
   "codemirror_mode": {
    "name": "ipython",
    "version": 3
   },
   "file_extension": ".py",
   "mimetype": "text/x-python",
   "name": "python",
   "nbconvert_exporter": "python",
   "pygments_lexer": "ipython3",
   "version": "3.8.8"
  },
  "vscode": {
   "interpreter": {
    "hash": "04550f3f6b16c098774382d22ccfef4b56328f6564ac75388063f68957b8e18d"
   }
  }
 },
 "nbformat": 4,
 "nbformat_minor": 5
}
